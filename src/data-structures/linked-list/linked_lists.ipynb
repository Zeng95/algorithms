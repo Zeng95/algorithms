{
 "cells": [
  {
   "attachments": {},
   "cell_type": "markdown",
   "metadata": {},
   "source": [
    "### Linked Lists:"
   ]
  },
  {
   "attachments": {},
   "cell_type": "markdown",
   "metadata": {},
   "source": [
    "* Are comprised of nodes\n",
    "* The nodes contain a pointer to the next node (and also the previous node for bidirectional linked lists)\n",
    "* Can be unidirectional or bidirectional\n",
    "* Are a basic data structure, and form the basis for many other data structures\n",
    "* Have a single head node, which serves as the first node in the list\n",
    "* Require some maintenance in order to add or remove nodes\n",
    "* The methods we used are an example and depend on the exact use case and/or programming language being used"
   ]
  },
  {
   "attachments": {
    "image.png": {
     "image/png": "[encoded data removed]"
    }
   },
   "cell_type": "markdown",
   "metadata": {},
   "source": [
    "![image.png](attachment:image.png)"
   ]
  },
  {
   "attachments": {},
   "cell_type": "markdown",
   "metadata": {},
   "source": [
    "### Common Operations:\n",
    "\n",
    "- Adding nodes\n",
    "- Removing nodes\n",
    "- Finding a node\n",
    "- Traversing (or traveling through) the linked list"
   ]
  }
 ],
 "metadata": {
  "kernelspec": {
   "display_name": "Python 3",
   "language": "python",
   "name": "python3"
  },
  "language_info": {
   "codemirror_mode": {
    "name": "ipython",
    "version": 3
   },
   "file_extension": ".py",
   "mimetype": "text/x-python",
   "name": "python",
   "nbconvert_exporter": "python",
   "pygments_lexer": "ipython3",
   "version": "3.10.6"
  },
  "orig_nbformat": 4
 },
 "nbformat": 4,
 "nbformat_minor": 2
}
